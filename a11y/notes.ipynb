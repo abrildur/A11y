{
 "cells": [
  {
   "cell_type": "markdown",
   "metadata": {},
   "source": [
    "## ¿Qué es Accesibilidad Web?\n",
    "\n",
    "La practica continua de asegurarnos que todo lo que creamos para la web se puede usar, interpretar y operar por una variedad de personas en una variedad de situaciones.\n",
    "\n",
    "A11y = numerónimo de accesibilidad.\n",
    "\n",
    "¿Por qué accesibilidad?\n",
    "-\tPara incluir a personas en situaciones de discapacidad.\n",
    "-\tPara mejorar la usabilidad de nuestros proyectos.\n",
    "-\tPorque en algunos lugares es la ley."
   ]
  }
 ],
 "metadata": {
  "language_info": {
   "name": "plaintext"
  },
  "orig_nbformat": 4
 },
 "nbformat": 4,
 "nbformat_minor": 2
}
